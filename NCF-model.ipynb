{
 "cells": [
  {
   "cell_type": "code",
   "execution_count": 1,
   "metadata": {},
   "outputs": [],
   "source": [
    "import pandas as pd\n",
    "import numpy as np\n",
    "import sklearn\n",
    "import datetime\n",
    "from sklearn.model_selection import train_test_split\n",
    "import matplotlib.pyplot as plt\n",
    "import seaborn as sns"
   ]
  },
  {
   "cell_type": "code",
   "execution_count": 2,
   "metadata": {},
   "outputs": [],
   "source": [
    "# date parse format\n",
    "def dateparse (time_in_secs):    \n",
    "    return datetime.datetime.fromtimestamp(float(time_in_secs))"
   ]
  },
  {
   "cell_type": "code",
   "execution_count": 3,
   "metadata": {},
   "outputs": [],
   "source": [
    "rating_dt = pd.read_csv('ratings.csv', \n",
    "                        #parse_dates=['timestamp'], \n",
    "                        #date_parser=dateparse\n",
    "                       )\n",
    "movie_dt = pd.read_csv('movies.csv')\n",
    "tag_dt = pd.read_csv('tags.csv', parse_dates=['timestamp'])"
   ]
  },
  {
   "cell_type": "code",
   "execution_count": null,
   "metadata": {},
   "outputs": [],
   "source": [
    "print(tag_dt.info())\n",
    "print(movie_dt.info())\n",
    "print(rating_dt.info())"
   ]
  },
  {
   "cell_type": "markdown",
   "metadata": {},
   "source": [
    "### Neural Collaborative Filtering"
   ]
  },
  {
   "cell_type": "markdown",
   "metadata": {},
   "source": [
    "#### Prepare data"
   ]
  },
  {
   "cell_type": "code",
   "execution_count": 4,
   "metadata": {},
   "outputs": [],
   "source": [
    "import tensorflow as tf\n",
    "from tensorflow import keras\n",
    "from tensorflow.keras import layers"
   ]
  },
  {
   "cell_type": "code",
   "execution_count": 5,
   "metadata": {},
   "outputs": [
    {
     "name": "stderr",
     "output_type": "stream",
     "text": [
      "C:\\Users\\fucce\\AppData\\Local\\Temp/ipykernel_12356/2584553989.py:15: SettingWithCopyWarning: \n",
      "A value is trying to be set on a copy of a slice from a DataFrame.\n",
      "Try using .loc[row_indexer,col_indexer] = value instead\n",
      "\n",
      "See the caveats in the documentation: https://pandas.pydata.org/pandas-docs/stable/user_guide/indexing.html#returning-a-view-versus-a-copy\n",
      "  sample_df['user_encoded'] = sample_df['userId'].map(user2user_encoded)\n",
      "C:\\Users\\fucce\\AppData\\Local\\Temp/ipykernel_12356/2584553989.py:21: SettingWithCopyWarning: \n",
      "A value is trying to be set on a copy of a slice from a DataFrame.\n",
      "Try using .loc[row_indexer,col_indexer] = value instead\n",
      "\n",
      "See the caveats in the documentation: https://pandas.pydata.org/pandas-docs/stable/user_guide/indexing.html#returning-a-view-versus-a-copy\n",
      "  sample_df['movie_encoded'] = sample_df['movieId'].map(movie2movie_encoded)\n"
     ]
    },
    {
     "name": "stdout",
     "output_type": "stream",
     "text": [
      "total movie: 30496 \n",
      "movie in train: 28206 \n",
      "movie not in train: 2290 (0.08) \n",
      "\n",
      "total user: 16254 \n",
      "user in train: 16254 \n",
      "user not in train: 0 (0.00)\n"
     ]
    }
   ],
   "source": [
    "# all unique user ids\n",
    "user_ids = rating_dt[\"userId\"].unique().tolist() \n",
    "num_all_user = len(user_ids)\n",
    "\n",
    "# randomly select 20% users from rating dataset \n",
    "np.random.seed(123)\n",
    "rand_userid = np.random.choice(user_ids, size = int(num_all_user * 0.1), replace=False)\n",
    "sample_df = rating_dt.loc[rating_dt['userId'].isin(rand_userid)]\n",
    "\n",
    "# userid, movieid encoding by indices\n",
    "user_ids = sample_df['userId'].unique()\n",
    "num_users = len(user_ids)\n",
    "user2user_encoded = {x: i for i, x in enumerate(user_ids)}\n",
    "user_encoded2user = {i: x for i, x in enumerate(user_ids)}\n",
    "sample_df['user_encoded'] = sample_df['userId'].map(user2user_encoded)\n",
    "\n",
    "movie_ids = sample_df['movieId'].unique()\n",
    "num_movies = len(movie_ids)\n",
    "movie2movie_encoded = {x: i for i, x in enumerate(movie_ids)}\n",
    "movie_encoded2movie = {i: x for i, x in enumerate(movie_ids)}\n",
    "sample_df['movie_encoded'] = sample_df['movieId'].map(movie2movie_encoded)\n",
    "\n",
    "# train-test split\n",
    "train, test = train_test_split(sample_df, test_size = 0.2, random_state=123)\n",
    "\n",
    "num_train_user = len(np.unique(train['user_encoded']))\n",
    "num_train_movie = len(np.unique(train['movie_encoded']))\n",
    "\n",
    "print(f'total movie: {num_movies}', \n",
    "      f'\\nmovie in train: {num_train_movie}', \n",
    "      f'\\nmovie not in train: {num_movies - num_train_movie} ({1 - num_train_movie / num_movies :.2f})', \n",
    "      f'\\n\\ntotal user: {num_users}', \n",
    "      f'\\nuser in train: {num_train_user}', \n",
    "      f'\\nuser not in train: {num_users - num_train_user} ({1 - num_train_user / num_users :.2f})'\n",
    "     )"
   ]
  },
  {
   "cell_type": "markdown",
   "metadata": {},
   "source": [
    "#### Embedding and model"
   ]
  },
  {
   "cell_type": "code",
   "execution_count": 6,
   "metadata": {},
   "outputs": [],
   "source": [
    "from keras.models import Model, Sequential\n",
    "from keras.layers import Embedding, Flatten, Input, Dropout, Dense, BatchNormalization, concatenate, dot\n",
    "from keras.optimizers import Adam\n",
    "from keras.utils import plot_model, model_to_dot\n",
    "from keras.constraints import non_neg\n",
    "from IPython.display import SVG\n",
    "from sklearn.metrics import mean_squared_error\n",
    "import os"
   ]
  },
  {
   "cell_type": "code",
   "execution_count": 7,
   "metadata": {},
   "outputs": [],
   "source": [
    "# input: an integer as embedding layer size, a float as drop out probability\n",
    "# output: a keras NCF model with pre-constructed layers\n",
    "def NCF_model(embed_size = 10, drop_out_prob = 0.2): \n",
    "    # define spaceholder of embedding inputs\n",
    "    movie_input = Input(shape=[1],name='movie-input')\n",
    "    user_input = Input(shape=[1], name='user-input')\n",
    "\n",
    "    # MLP embeddings for both user and movie\n",
    "    movie_embedding_mlp = Embedding(num_movies, embed_size, \n",
    "                                    name='movie-embedding-mlp')(movie_input)\n",
    "    movie_vec_mlp = Flatten(name='flatten-movie-mlp')(movie_embedding_mlp)\n",
    "    movie_vec_mlp = Flatten(name='flatten-movie-mlp')(movie_embedding_mlp)\n",
    "\n",
    "    user_embedding_mlp = Embedding(num_users, embed_size, \n",
    "                                   name='user-embedding-mlp')(user_input)\n",
    "    user_vec_mlp = Flatten(name='flatten-user-mlp')(user_embedding_mlp)\n",
    "\n",
    "    # MF embeddings for both user and movie\n",
    "    movie_embedding_mf = Embedding(num_movies, embed_size, \n",
    "                                   name='movie-embedding-mf')(movie_input)\n",
    "    movie_vec_mf = Flatten(name='flatten-movie-mf')(movie_embedding_mf)\n",
    "\n",
    "    user_embedding_mf = Embedding(num_users, embed_size, \n",
    "                                  name='user-embedding-mf')(user_input)\n",
    "    user_vec_mf = Flatten(name='flatten-user-mf')(user_embedding_mf)\n",
    "\n",
    "    # MLP layers\n",
    "    concat = concatenate([movie_vec_mlp, user_vec_mlp], axis=-1, name='concat')\n",
    "    concat_dropout = Dropout(drop_out_prob)(concat)\n",
    "\n",
    "    fc_1 = Dense(100, name='fc-1', activation='relu')(concat_dropout)\n",
    "    fc_1_bn = BatchNormalization(name='batch-norm-1')(fc_1)\n",
    "    fc_1_dropout = Dropout(drop_out_prob)(fc_1_bn)\n",
    "\n",
    "    fc_2 = Dense(50, name='fc-2', activation='relu')(fc_1_dropout)\n",
    "    fc_2_bn = BatchNormalization(name='batch-norm-2')(fc_2)\n",
    "    fc_2_dropout = Dropout(drop_out_prob)(fc_2_bn)\n",
    "\n",
    "    # Prediction from both layers\n",
    "    pred_mlp = Dense(10, name='pred-mlp', activation='relu')(fc_2_dropout)\n",
    "    pred_mf = dot([movie_vec_mf, user_vec_mf], axes=1, normalize=False)\n",
    "\n",
    "    combine_mlp_mf = concatenate([pred_mf, pred_mlp], axis=-1, name='pred_mf')\n",
    "\n",
    "    # Final prediction\n",
    "    result = Dense(1, name='result', activation='relu')(combine_mlp_mf)\n",
    "\n",
    "    model = Model([user_input, movie_input], result)\n",
    "    model.compile(optimizer=Adam(lr=0.01), loss='mean_squared_error')\n",
    "\n",
    "    return model"
   ]
  },
  {
   "cell_type": "code",
   "execution_count": 8,
   "metadata": {
    "scrolled": false
   },
   "outputs": [
    {
     "name": "stderr",
     "output_type": "stream",
     "text": [
      "c:\\Users\\fucce\\AppData\\Local\\Programs\\Python\\Python39\\lib\\site-packages\\keras\\optimizers\\optimizer_v2\\adam.py:114: UserWarning: The `lr` argument is deprecated, use `learning_rate` instead.\n",
      "  super().__init__(name, **kwargs)\n"
     ]
    }
   ],
   "source": [
    "model = NCF_model()\n",
    "\n"
   ]
  },
  {
   "cell_type": "code",
   "execution_count": 12,
   "metadata": {},
   "outputs": [
    {
     "name": "stdout",
     "output_type": "stream",
     "text": [
      "Model: \"model_1\"\n",
      "__________________________________________________________________________________________________\n",
      " Layer (type)                   Output Shape         Param #     Connected to                     \n",
      "==================================================================================================\n",
      " movie-input (InputLayer)       [(None, 1)]          0           []                               \n",
      "                                                                                                  \n",
      " user-input (InputLayer)        [(None, 1)]          0           []                               \n",
      "                                                                                                  \n",
      " movie-embedding-mlp (Embedding  (None, 1, 10)       304960      ['movie-input[0][0]']            \n",
      " )                                                                                                \n",
      "                                                                                                  \n",
      " user-embedding-mlp (Embedding)  (None, 1, 10)       162540      ['user-input[0][0]']             \n",
      "                                                                                                  \n",
      " flatten-movie-mlp (Flatten)    (None, 10)           0           ['movie-embedding-mlp[0][0]']    \n",
      "                                                                                                  \n",
      " flatten-user-mlp (Flatten)     (None, 10)           0           ['user-embedding-mlp[0][0]']     \n",
      "                                                                                                  \n",
      " concat (Concatenate)           (None, 20)           0           ['flatten-movie-mlp[0][0]',      \n",
      "                                                                  'flatten-user-mlp[0][0]']       \n",
      "                                                                                                  \n",
      " dropout_3 (Dropout)            (None, 20)           0           ['concat[0][0]']                 \n",
      "                                                                                                  \n",
      " fc-1 (Dense)                   (None, 100)          2100        ['dropout_3[0][0]']              \n",
      "                                                                                                  \n",
      " batch-norm-1 (BatchNormalizati  (None, 100)         400         ['fc-1[0][0]']                   \n",
      " on)                                                                                              \n",
      "                                                                                                  \n",
      " dropout_4 (Dropout)            (None, 100)          0           ['batch-norm-1[0][0]']           \n",
      "                                                                                                  \n",
      " fc-2 (Dense)                   (None, 50)           5050        ['dropout_4[0][0]']              \n",
      "                                                                                                  \n",
      " movie-embedding-mf (Embedding)  (None, 1, 10)       304960      ['movie-input[0][0]']            \n",
      "                                                                                                  \n",
      " user-embedding-mf (Embedding)  (None, 1, 10)        162540      ['user-input[0][0]']             \n",
      "                                                                                                  \n",
      " batch-norm-2 (BatchNormalizati  (None, 50)          200         ['fc-2[0][0]']                   \n",
      " on)                                                                                              \n",
      "                                                                                                  \n",
      " flatten-movie-mf (Flatten)     (None, 10)           0           ['movie-embedding-mf[0][0]']     \n",
      "                                                                                                  \n",
      " flatten-user-mf (Flatten)      (None, 10)           0           ['user-embedding-mf[0][0]']      \n",
      "                                                                                                  \n",
      " dropout_5 (Dropout)            (None, 50)           0           ['batch-norm-2[0][0]']           \n",
      "                                                                                                  \n",
      " dot_1 (Dot)                    (None, 1)            0           ['flatten-movie-mf[0][0]',       \n",
      "                                                                  'flatten-user-mf[0][0]']        \n",
      "                                                                                                  \n",
      " pred-mlp (Dense)               (None, 10)           510         ['dropout_5[0][0]']              \n",
      "                                                                                                  \n",
      " pred_mf (Concatenate)          (None, 11)           0           ['dot_1[0][0]',                  \n",
      "                                                                  'pred-mlp[0][0]']               \n",
      "                                                                                                  \n",
      " result (Dense)                 (None, 1)            12          ['pred_mf[0][0]']                \n",
      "                                                                                                  \n",
      "==================================================================================================\n",
      "Total params: 943,272\n",
      "Trainable params: 942,972\n",
      "Non-trainable params: 300\n",
      "__________________________________________________________________________________________________\n"
     ]
    }
   ],
   "source": [
    "model.summary()"
   ]
  },
  {
   "cell_type": "code",
   "execution_count": 13,
   "metadata": {},
   "outputs": [
    {
     "name": "stdout",
     "output_type": "stream",
     "text": [
      "Epoch 1/5\n",
      "61259/61259 [==============================] - 1082s 18ms/step - loss: 0.8401\n",
      "Epoch 2/5\n",
      "61259/61259 [==============================] - 988s 16ms/step - loss: 0.7781\n",
      "Epoch 3/5\n",
      "61259/61259 [==============================] - 933s 15ms/step - loss: 0.7619\n",
      "Epoch 4/5\n",
      "61259/61259 [==============================] - 1078s 18ms/step - loss: 0.7516\n",
      "Epoch 5/5\n",
      "61259/61259 [==============================] - 1185s 19ms/step - loss: 0.7442\n"
     ]
    },
    {
     "data": {
      "image/png": "[encoded data removed]",
      "text/plain": [
       "<Figure size 432x288 with 1 Axes>"
      ]
     },
     "metadata": {
      "needs_background": "light"
     },
     "output_type": "display_data"
    }
   ],
   "source": [
    "# train NCF model on training data, embedding size 20, dropout rate as default\n",
    "model = NCF_model(embed_size=20)\n",
    "history = model.fit([train['user_encoded'], train['movie_encoded']], train['rating'], epochs=5)\n",
    "\n",
    "pd.Series(history.history['loss']).plot(logy=True)\n",
    "plt.xlabel(\"Epoch\")\n",
    "plt.ylabel(\"Train Error\")\n",
    "plt.show()"
   ]
  },
  {
   "cell_type": "code",
   "execution_count": 10,
   "metadata": {},
   "outputs": [],
   "source": [
    "#load model from file\n",
    "model =  tf.keras.models.load_model('rec_model.h5')"
   ]
  },
  {
   "cell_type": "code",
   "execution_count": 11,
   "metadata": {},
   "outputs": [
    {
     "name": "stdout",
     "output_type": "stream",
     "text": [
      "15315/15315 [==============================] - 14s 888us/step\n",
      "testing rms: 0.7927284574436628\n"
     ]
    }
   ],
   "source": [
    "# rmse on testing set \n",
    "y_hat = np.round(model.predict([test['user_encoded'], test['movie_encoded']]), decimals=2)\n",
    "y_true = test['rating']\n",
    "print(f'testing rms: {mean_squared_error(y_true, y_hat)}')"
   ]
  },
  {
   "cell_type": "markdown",
   "metadata": {},
   "source": [
    "#### Performance on inactive / active users"
   ]
  },
  {
   "cell_type": "markdown",
   "metadata": {},
   "source": [
    "#### Cross-validation on validation set"
   ]
  },
  {
   "cell_type": "code",
   "execution_count": 17,
   "metadata": {},
   "outputs": [],
   "source": [
    "from sklearn.model_selection import KFold\n",
    "\n",
    "valid_df_size = 100000\n",
    "valid_df = train.sample(n = int(valid_df_size), replace=False, random_state=123)\n",
    "\n",
    "embedding_layers = [5, 10, 15, 20, 25, 30]"
   ]
  },
  {
   "cell_type": "code",
   "execution_count": 18,
   "metadata": {},
   "outputs": [],
   "source": [
    "\n",
    "def NCF_cross_validation(cv_df, eb_layers, drop_prob = 0.2, epoch=3, n_split=3):\n",
    "    cv_result = []\n",
    "\n",
    "    for el in eb_layers:      \n",
    "        temp_loss = []\n",
    "        itr_idx = 0\n",
    "        \n",
    "        for train_idx, test_idx in KFold(n_split).split(cv_df):          \n",
    "            cv_train_x = cv_df.iloc[train_idx][['user_encoded', 'movie_encoded']]\n",
    "            cv_test_x = cv_df.iloc[test_idx][['user_encoded', 'movie_encoded']]\n",
    "            cv_train_y = cv_df.iloc[train_idx]['rating']\n",
    "            cv_test_y = cv_df.iloc[test_idx]['rating']\n",
    "\n",
    "            model_cv = NCF_model()\n",
    "            model_cv.fit([cv_train_x['user_encoded'], cv_train_x['movie_encoded']], cv_train_y, epochs=epoch)\n",
    "\n",
    "            curr_loss = model_cv.evaluate([cv_df['user_encoded'], cv_df['movie_encoded']], cv_df['rating'])\n",
    "            temp_loss.append(curr_loss)         \n",
    "            itr_idx += 1\n",
    "            \n",
    "        cv_result.append(sum(temp_loss) / n_split)\n",
    "            \n",
    "    return cv_result"
   ]
  },
  {
   "cell_type": "code",
   "execution_count": 19,
   "metadata": {},
   "outputs": [
    {
     "name": "stdout",
     "output_type": "stream",
     "text": [
      "Epoch 1/3\n"
     ]
    },
    {
     "name": "stderr",
     "output_type": "stream",
     "text": [
      "c:\\Users\\fucce\\AppData\\Local\\Programs\\Python\\Python39\\lib\\site-packages\\keras\\optimizers\\optimizer_v2\\adam.py:114: UserWarning: The `lr` argument is deprecated, use `learning_rate` instead.\n",
      "  super().__init__(name, **kwargs)\n"
     ]
    },
    {
     "name": "stdout",
     "output_type": "stream",
     "text": [
      "2084/2084 [==============================] - 16s 7ms/step - loss: 1.1923\n",
      "Epoch 2/3\n",
      "2084/2084 [==============================] - 14s 7ms/step - loss: 0.8832\n",
      "Epoch 3/3\n",
      "2084/2084 [==============================] - 14s 7ms/step - loss: 0.5271\n",
      "3125/3125 [==============================] - 3s 1ms/step - loss: 0.5147\n",
      "Epoch 1/3\n"
     ]
    },
    {
     "name": "stderr",
     "output_type": "stream",
     "text": [
      "c:\\Users\\fucce\\AppData\\Local\\Programs\\Python\\Python39\\lib\\site-packages\\keras\\optimizers\\optimizer_v2\\adam.py:114: UserWarning: The `lr` argument is deprecated, use `learning_rate` instead.\n",
      "  super().__init__(name, **kwargs)\n"
     ]
    },
    {
     "name": "stdout",
     "output_type": "stream",
     "text": [
      "2084/2084 [==============================] - 15s 7ms/step - loss: 1.1943\n",
      "Epoch 2/3\n",
      "2084/2084 [==============================] - 14s 7ms/step - loss: 0.8823\n",
      "Epoch 3/3\n",
      "2084/2084 [==============================] - 15s 7ms/step - loss: 0.5949\n",
      "3125/3125 [==============================] - 3s 940us/step - loss: 0.5173\n",
      "Epoch 1/3\n"
     ]
    },
    {
     "name": "stderr",
     "output_type": "stream",
     "text": [
      "c:\\Users\\fucce\\AppData\\Local\\Programs\\Python\\Python39\\lib\\site-packages\\keras\\optimizers\\optimizer_v2\\adam.py:114: UserWarning: The `lr` argument is deprecated, use `learning_rate` instead.\n",
      "  super().__init__(name, **kwargs)\n"
     ]
    },
    {
     "name": "stdout",
     "output_type": "stream",
     "text": [
      "2084/2084 [==============================] - 15s 7ms/step - loss: 1.1953\n",
      "Epoch 2/3\n",
      "2084/2084 [==============================] - 14s 7ms/step - loss: 0.8819\n",
      "Epoch 3/3\n",
      "2084/2084 [==============================] - 14s 7ms/step - loss: 0.6240\n",
      "3125/3125 [==============================] - 3s 891us/step - loss: 0.5391\n",
      "Epoch 1/3\n"
     ]
    },
    {
     "name": "stderr",
     "output_type": "stream",
     "text": [
      "c:\\Users\\fucce\\AppData\\Local\\Programs\\Python\\Python39\\lib\\site-packages\\keras\\optimizers\\optimizer_v2\\adam.py:114: UserWarning: The `lr` argument is deprecated, use `learning_rate` instead.\n",
      "  super().__init__(name, **kwargs)\n"
     ]
    },
    {
     "name": "stdout",
     "output_type": "stream",
     "text": [
      "2084/2084 [==============================] - 15s 7ms/step - loss: 1.1820\n",
      "Epoch 2/3\n",
      "2084/2084 [==============================] - 14s 7ms/step - loss: 0.8542\n",
      "Epoch 3/3\n",
      "2084/2084 [==============================] - 14s 7ms/step - loss: 0.5162\n",
      "3125/3125 [==============================] - 3s 882us/step - loss: 0.5427\n",
      "Epoch 1/3\n"
     ]
    },
    {
     "name": "stderr",
     "output_type": "stream",
     "text": [
      "c:\\Users\\fucce\\AppData\\Local\\Programs\\Python\\Python39\\lib\\site-packages\\keras\\optimizers\\optimizer_v2\\adam.py:114: UserWarning: The `lr` argument is deprecated, use `learning_rate` instead.\n",
      "  super().__init__(name, **kwargs)\n"
     ]
    },
    {
     "name": "stdout",
     "output_type": "stream",
     "text": [
      "2084/2084 [==============================] - 15s 7ms/step - loss: 1.1859\n",
      "Epoch 2/3\n",
      "2084/2084 [==============================] - 15s 7ms/step - loss: 0.8178\n",
      "Epoch 3/3\n",
      "2084/2084 [==============================] - 15s 7ms/step - loss: 0.4397\n",
      "3125/3125 [==============================] - 3s 888us/step - loss: 0.5013\n",
      "Epoch 1/3\n"
     ]
    },
    {
     "name": "stderr",
     "output_type": "stream",
     "text": [
      "c:\\Users\\fucce\\AppData\\Local\\Programs\\Python\\Python39\\lib\\site-packages\\keras\\optimizers\\optimizer_v2\\adam.py:114: UserWarning: The `lr` argument is deprecated, use `learning_rate` instead.\n",
      "  super().__init__(name, **kwargs)\n"
     ]
    },
    {
     "name": "stdout",
     "output_type": "stream",
     "text": [
      "2084/2084 [==============================] - 16s 7ms/step - loss: 1.1809\n",
      "Epoch 2/3\n",
      "2084/2084 [==============================] - 15s 7ms/step - loss: 0.8990\n",
      "Epoch 3/3\n",
      "2084/2084 [==============================] - 15s 7ms/step - loss: 0.6907\n",
      "3125/3125 [==============================] - 3s 966us/step - loss: 0.5537\n",
      "Epoch 1/3\n"
     ]
    },
    {
     "name": "stderr",
     "output_type": "stream",
     "text": [
      "c:\\Users\\fucce\\AppData\\Local\\Programs\\Python\\Python39\\lib\\site-packages\\keras\\optimizers\\optimizer_v2\\adam.py:114: UserWarning: The `lr` argument is deprecated, use `learning_rate` instead.\n",
      "  super().__init__(name, **kwargs)\n"
     ]
    },
    {
     "name": "stdout",
     "output_type": "stream",
     "text": [
      "2084/2084 [==============================] - 16s 7ms/step - loss: 1.1770\n",
      "Epoch 2/3\n",
      "2084/2084 [==============================] - 16s 8ms/step - loss: 0.8841\n",
      "Epoch 3/3\n",
      "2084/2084 [==============================] - 18s 9ms/step - loss: 0.6134\n",
      "3125/3125 [==============================] - 4s 1ms/step - loss: 0.5374\n",
      "Epoch 1/3\n"
     ]
    },
    {
     "name": "stderr",
     "output_type": "stream",
     "text": [
      "c:\\Users\\fucce\\AppData\\Local\\Programs\\Python\\Python39\\lib\\site-packages\\keras\\optimizers\\optimizer_v2\\adam.py:114: UserWarning: The `lr` argument is deprecated, use `learning_rate` instead.\n",
      "  super().__init__(name, **kwargs)\n"
     ]
    },
    {
     "name": "stdout",
     "output_type": "stream",
     "text": [
      "2084/2084 [==============================] - 19s 8ms/step - loss: 1.2146\n",
      "Epoch 2/3\n",
      "2084/2084 [==============================] - 16s 8ms/step - loss: 0.8281\n",
      "Epoch 3/3\n",
      "2084/2084 [==============================] - 18s 8ms/step - loss: 0.4802\n",
      "3125/3125 [==============================] - 3s 1ms/step - loss: 0.4978\n",
      "Epoch 1/3\n"
     ]
    },
    {
     "name": "stderr",
     "output_type": "stream",
     "text": [
      "c:\\Users\\fucce\\AppData\\Local\\Programs\\Python\\Python39\\lib\\site-packages\\keras\\optimizers\\optimizer_v2\\adam.py:114: UserWarning: The `lr` argument is deprecated, use `learning_rate` instead.\n",
      "  super().__init__(name, **kwargs)\n"
     ]
    },
    {
     "name": "stdout",
     "output_type": "stream",
     "text": [
      "2084/2084 [==============================] - 17s 8ms/step - loss: 1.2067\n",
      "Epoch 2/3\n",
      "2084/2084 [==============================] - 16s 8ms/step - loss: 0.8917\n",
      "Epoch 3/3\n",
      "2084/2084 [==============================] - 16s 8ms/step - loss: 0.5617\n",
      "3125/3125 [==============================] - 3s 1ms/step - loss: 0.5099\n",
      "Epoch 1/3\n"
     ]
    },
    {
     "name": "stderr",
     "output_type": "stream",
     "text": [
      "c:\\Users\\fucce\\AppData\\Local\\Programs\\Python\\Python39\\lib\\site-packages\\keras\\optimizers\\optimizer_v2\\adam.py:114: UserWarning: The `lr` argument is deprecated, use `learning_rate` instead.\n",
      "  super().__init__(name, **kwargs)\n"
     ]
    },
    {
     "name": "stdout",
     "output_type": "stream",
     "text": [
      "2084/2084 [==============================] - 17s 8ms/step - loss: 1.2205\n",
      "Epoch 2/3\n",
      "2084/2084 [==============================] - 16s 8ms/step - loss: 0.8289\n",
      "Epoch 3/3\n",
      "2084/2084 [==============================] - 16s 8ms/step - loss: 0.5058\n",
      "3125/3125 [==============================] - 3s 997us/step - loss: 0.4977\n",
      "Epoch 1/3\n"
     ]
    },
    {
     "name": "stderr",
     "output_type": "stream",
     "text": [
      "c:\\Users\\fucce\\AppData\\Local\\Programs\\Python\\Python39\\lib\\site-packages\\keras\\optimizers\\optimizer_v2\\adam.py:114: UserWarning: The `lr` argument is deprecated, use `learning_rate` instead.\n",
      "  super().__init__(name, **kwargs)\n"
     ]
    },
    {
     "name": "stdout",
     "output_type": "stream",
     "text": [
      "2084/2084 [==============================] - 17s 8ms/step - loss: 1.1816\n",
      "Epoch 2/3\n",
      "2084/2084 [==============================] - 15s 7ms/step - loss: 0.8628\n",
      "Epoch 3/3\n",
      "2084/2084 [==============================] - 15s 7ms/step - loss: 0.7612\n",
      "3125/3125 [==============================] - 3s 1ms/step - loss: 0.6860\n",
      "Epoch 1/3\n"
     ]
    },
    {
     "name": "stderr",
     "output_type": "stream",
     "text": [
      "c:\\Users\\fucce\\AppData\\Local\\Programs\\Python\\Python39\\lib\\site-packages\\keras\\optimizers\\optimizer_v2\\adam.py:114: UserWarning: The `lr` argument is deprecated, use `learning_rate` instead.\n",
      "  super().__init__(name, **kwargs)\n"
     ]
    },
    {
     "name": "stdout",
     "output_type": "stream",
     "text": [
      "2084/2084 [==============================] - 17s 7ms/step - loss: 1.1921\n",
      "Epoch 2/3\n",
      "2084/2084 [==============================] - 15s 7ms/step - loss: 0.8725\n",
      "Epoch 3/3\n",
      "2084/2084 [==============================] - 15s 7ms/step - loss: 0.6180\n",
      "3125/3125 [==============================] - 3s 1ms/step - loss: 0.5752\n",
      "Epoch 1/3\n"
     ]
    },
    {
     "name": "stderr",
     "output_type": "stream",
     "text": [
      "c:\\Users\\fucce\\AppData\\Local\\Programs\\Python\\Python39\\lib\\site-packages\\keras\\optimizers\\optimizer_v2\\adam.py:114: UserWarning: The `lr` argument is deprecated, use `learning_rate` instead.\n",
      "  super().__init__(name, **kwargs)\n"
     ]
    },
    {
     "name": "stdout",
     "output_type": "stream",
     "text": [
      "2084/2084 [==============================] - 15s 7ms/step - loss: 1.1664\n",
      "Epoch 2/3\n",
      "2084/2084 [==============================] - 13s 6ms/step - loss: 0.8749\n",
      "Epoch 3/3\n",
      "2084/2084 [==============================] - 12s 6ms/step - loss: 0.5591\n",
      "3125/3125 [==============================] - 3s 757us/step - loss: 0.5211\n",
      "Epoch 1/3\n"
     ]
    },
    {
     "name": "stderr",
     "output_type": "stream",
     "text": [
      "c:\\Users\\fucce\\AppData\\Local\\Programs\\Python\\Python39\\lib\\site-packages\\keras\\optimizers\\optimizer_v2\\adam.py:114: UserWarning: The `lr` argument is deprecated, use `learning_rate` instead.\n",
      "  super().__init__(name, **kwargs)\n"
     ]
    },
    {
     "name": "stdout",
     "output_type": "stream",
     "text": [
      "2084/2084 [==============================] - 13s 6ms/step - loss: 1.1933\n",
      "Epoch 2/3\n",
      "2084/2084 [==============================] - 13s 6ms/step - loss: 0.8627\n",
      "Epoch 3/3\n",
      "2084/2084 [==============================] - 13s 6ms/step - loss: 0.6949\n",
      "3125/3125 [==============================] - 3s 946us/step - loss: 0.5862\n",
      "Epoch 1/3\n"
     ]
    },
    {
     "name": "stderr",
     "output_type": "stream",
     "text": [
      "c:\\Users\\fucce\\AppData\\Local\\Programs\\Python\\Python39\\lib\\site-packages\\keras\\optimizers\\optimizer_v2\\adam.py:114: UserWarning: The `lr` argument is deprecated, use `learning_rate` instead.\n",
      "  super().__init__(name, **kwargs)\n"
     ]
    },
    {
     "name": "stdout",
     "output_type": "stream",
     "text": [
      "2084/2084 [==============================] - 14s 6ms/step - loss: 1.1879\n",
      "Epoch 2/3\n",
      "2084/2084 [==============================] - 12s 6ms/step - loss: 0.9049\n",
      "Epoch 3/3\n",
      "2084/2084 [==============================] - 12s 6ms/step - loss: 0.7366\n",
      "3125/3125 [==============================] - 3s 772us/step - loss: 0.5990\n",
      "Epoch 1/3\n"
     ]
    },
    {
     "name": "stderr",
     "output_type": "stream",
     "text": [
      "c:\\Users\\fucce\\AppData\\Local\\Programs\\Python\\Python39\\lib\\site-packages\\keras\\optimizers\\optimizer_v2\\adam.py:114: UserWarning: The `lr` argument is deprecated, use `learning_rate` instead.\n",
      "  super().__init__(name, **kwargs)\n"
     ]
    },
    {
     "name": "stdout",
     "output_type": "stream",
     "text": [
      "2084/2084 [==============================] - 14s 6ms/step - loss: 1.1791\n",
      "Epoch 2/3\n",
      "2084/2084 [==============================] - 13s 6ms/step - loss: 0.8716\n",
      "Epoch 3/3\n",
      "2084/2084 [==============================] - 16s 8ms/step - loss: 0.5607\n",
      "3125/3125 [==============================] - 3s 921us/step - loss: 0.5199\n",
      "Epoch 1/3\n"
     ]
    },
    {
     "name": "stderr",
     "output_type": "stream",
     "text": [
      "c:\\Users\\fucce\\AppData\\Local\\Programs\\Python\\Python39\\lib\\site-packages\\keras\\optimizers\\optimizer_v2\\adam.py:114: UserWarning: The `lr` argument is deprecated, use `learning_rate` instead.\n",
      "  super().__init__(name, **kwargs)\n"
     ]
    },
    {
     "name": "stdout",
     "output_type": "stream",
     "text": [
      "2084/2084 [==============================] - 18s 8ms/step - loss: 1.1864\n",
      "Epoch 2/3\n",
      "2084/2084 [==============================] - 15s 7ms/step - loss: 0.8749\n",
      "Epoch 3/3\n",
      "2084/2084 [==============================] - 16s 7ms/step - loss: 0.7724\n",
      "3125/3125 [==============================] - 3s 992us/step - loss: 0.6678\n",
      "Epoch 1/3\n"
     ]
    },
    {
     "name": "stderr",
     "output_type": "stream",
     "text": [
      "c:\\Users\\fucce\\AppData\\Local\\Programs\\Python\\Python39\\lib\\site-packages\\keras\\optimizers\\optimizer_v2\\adam.py:114: UserWarning: The `lr` argument is deprecated, use `learning_rate` instead.\n",
      "  super().__init__(name, **kwargs)\n"
     ]
    },
    {
     "name": "stdout",
     "output_type": "stream",
     "text": [
      "2084/2084 [==============================] - 17s 8ms/step - loss: 1.1701\n",
      "Epoch 2/3\n",
      "2084/2084 [==============================] - 16s 8ms/step - loss: 0.8811\n",
      "Epoch 3/3\n",
      "2084/2084 [==============================] - 16s 8ms/step - loss: 0.5823\n",
      "3125/3125 [==============================] - 3s 963us/step - loss: 0.5081\n"
     ]
    }
   ],
   "source": [
    "cv_result = NCF_cross_validation(valid_df, embedding_layers)"
   ]
  },
  {
   "cell_type": "code",
   "execution_count": 20,
   "metadata": {},
   "outputs": [
    {
     "data": {
      "text/plain": [
       "[Text(0.5, 0, 'Embedding Dim'),\n",
       " Text(0, 0.5, 'CV rmse'),\n",
       " Text(0.5, 1.0, '3-Fold CV')]"
      ]
     },
     "execution_count": 20,
     "metadata": {},
     "output_type": "execute_result"
    },
    {
     "data": {
      "image/png": "[encoded data removed]",
      "text/plain": [
       "<Figure size 576x432 with 1 Axes>"
      ]
     },
     "metadata": {},
     "output_type": "display_data"
    }
   ],
   "source": [
    "cv_result_df = pd.DataFrame({'cv_rmse': cv_result}, index = embedding_layers)\n",
    "\n",
    "fig, ax = plt.subplots(figsize=(8, 6))\n",
    "sns.set_style('whitegrid')\n",
    "sns.pointplot(x=cv_result_df.index, y=cv_result_df.cv_rmse, ax=ax)\n",
    "ax.set(xlabel='Embedding Dim', ylabel='CV rmse', title='3-Fold CV')"
   ]
  },
  {
   "cell_type": "code",
   "execution_count": null,
   "metadata": {},
   "outputs": [],
   "source": []
  }
 ],
 "metadata": {
  "kernelspec": {
   "display_name": "Python 3.9.6 64-bit",
   "language": "python",
   "name": "python3"
  },
  "language_info": {
   "codemirror_mode": {
    "name": "ipython",
    "version": 3
   },
   "file_extension": ".py",
   "mimetype": "text/x-python",
   "name": "python",
   "nbconvert_exporter": "python",
   "pygments_lexer": "ipython3",
   "version": "3.9.6"
  },
  "vscode": {
   "interpreter": {
    "hash": "997482ccd98916e59c932c280d4466e2c0c6e58b6c7d0d8f8408db6cc07c4181"
   }
  }
 },
 "nbformat": 4,
 "nbformat_minor": 4
}
